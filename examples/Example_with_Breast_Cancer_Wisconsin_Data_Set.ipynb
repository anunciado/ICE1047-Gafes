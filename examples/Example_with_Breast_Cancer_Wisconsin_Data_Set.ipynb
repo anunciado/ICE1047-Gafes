{
  "nbformat": 4,
  "nbformat_minor": 0,
  "metadata": {
    "colab": {
      "name": "Example with Breast Cancer Wisconsin Data Set.ipynb",
      "version": "0.3.2",
      "provenance": []
    },
    "kernelspec": {
      "name": "python3",
      "display_name": "Python 3"
    }
  },
  "cells": [
    {
      "cell_type": "markdown",
      "metadata": {
        "id": "RuuZ9dLacGgo",
        "colab_type": "text"
      },
      "source": [
        "# Example with Breast Cancer Wisconsin Data Set\n",
        "\n",
        "This is a example of use of gafes"
      ]
    },
    {
      "cell_type": "code",
      "metadata": {
        "id": "OFmm-oyIZEtb",
        "colab_type": "code",
        "colab": {
          "base_uri": "https://localhost:8080/",
          "height": 715
        },
        "outputId": "42e149c5-40ab-4e3c-9e0b-60ea2fb0e818"
      },
      "source": [
        "!pip install git+https://github.com/anunciado/ICE1047-Gafes.git@master"
      ],
      "execution_count": 1,
      "outputs": [
        {
          "output_type": "stream",
          "text": [
            "Collecting git+https://github.com/anunciado/ICE1047-Gafes.git@master\n",
            "  Cloning https://github.com/anunciado/ICE1047-Gafes.git (to revision master) to /tmp/pip-req-build-f7kgtz60\n",
            "  Running command git clone -q https://github.com/anunciado/ICE1047-Gafes.git /tmp/pip-req-build-f7kgtz60\n",
            "Collecting deap==1.2.2 (from gafes==0.0.1)\n",
            "\u001b[?25l  Downloading https://files.pythonhosted.org/packages/af/29/e7f2ecbe02997b16a768baed076f5fc4781d7057cd5d9adf7c94027845ba/deap-1.2.2.tar.gz (936kB)\n",
            "\u001b[K     |████████████████████████████████| 942kB 2.8MB/s \n",
            "\u001b[?25hRequirement already satisfied: joblib==0.13.2 in /usr/local/lib/python3.6/dist-packages (from gafes==0.0.1) (0.13.2)\n",
            "Requirement already satisfied: numpy==1.16.4 in /usr/local/lib/python3.6/dist-packages (from gafes==0.0.1) (1.16.4)\n",
            "Requirement already satisfied: pandas==0.24.2 in /usr/local/lib/python3.6/dist-packages (from gafes==0.0.1) (0.24.2)\n",
            "Collecting python-dateutil==2.8.0 (from gafes==0.0.1)\n",
            "\u001b[?25l  Downloading https://files.pythonhosted.org/packages/41/17/c62faccbfbd163c7f57f3844689e3a78bae1f403648a6afb1d0866d87fbb/python_dateutil-2.8.0-py2.py3-none-any.whl (226kB)\n",
            "\u001b[K     |████████████████████████████████| 235kB 41.9MB/s \n",
            "\u001b[?25hCollecting pytz==2019.1 (from gafes==0.0.1)\n",
            "\u001b[?25l  Downloading https://files.pythonhosted.org/packages/3d/73/fe30c2daaaa0713420d0382b16fbb761409f532c56bdcc514bf7b6262bb6/pytz-2019.1-py2.py3-none-any.whl (510kB)\n",
            "\u001b[K     |████████████████████████████████| 512kB 44.6MB/s \n",
            "\u001b[?25hRequirement already satisfied: scikit-learn==0.21.2 in /usr/local/lib/python3.6/dist-packages (from gafes==0.0.1) (0.21.2)\n",
            "Requirement already satisfied: scipy==1.3.0 in /usr/local/lib/python3.6/dist-packages (from gafes==0.0.1) (1.3.0)\n",
            "Requirement already satisfied: six==1.12.0 in /usr/local/lib/python3.6/dist-packages (from gafes==0.0.1) (1.12.0)\n",
            "Requirement already satisfied: sklearn==0.0 in /usr/local/lib/python3.6/dist-packages (from gafes==0.0.1) (0.0)\n",
            "Building wheels for collected packages: gafes, deap\n",
            "  Building wheel for gafes (setup.py) ... \u001b[?25l\u001b[?25hdone\n",
            "  Stored in directory: /tmp/pip-ephem-wheel-cache-vqduvbc6/wheels/ba/4b/82/3819bab2fb19061bf373100bfc92f5846b8de8f6c84aac77cd\n",
            "  Building wheel for deap (setup.py) ... \u001b[?25l\u001b[?25hdone\n",
            "  Stored in directory: /root/.cache/pip/wheels/22/ea/bf/dc7c8a2262025a0ab5da9ef02282c198be88902791ca0c6658\n",
            "Successfully built gafes deap\n",
            "\u001b[31mERROR: albumentations 0.1.12 has requirement imgaug<0.2.7,>=0.2.5, but you'll have imgaug 0.2.9 which is incompatible.\u001b[0m\n",
            "Installing collected packages: deap, python-dateutil, pytz, gafes\n",
            "  Found existing installation: python-dateutil 2.5.3\n",
            "    Uninstalling python-dateutil-2.5.3:\n",
            "      Successfully uninstalled python-dateutil-2.5.3\n",
            "  Found existing installation: pytz 2018.9\n",
            "    Uninstalling pytz-2018.9:\n",
            "      Successfully uninstalled pytz-2018.9\n",
            "Successfully installed deap-1.2.2 gafes-0.0.1 python-dateutil-2.8.0 pytz-2019.1\n"
          ],
          "name": "stdout"
        },
        {
          "output_type": "display_data",
          "data": {
            "application/vnd.colab-display-data+json": {
              "pip_warning": {
                "packages": [
                  "dateutil",
                  "pytz"
                ]
              }
            }
          },
          "metadata": {
            "tags": []
          }
        }
      ]
    },
    {
      "cell_type": "code",
      "metadata": {
        "id": "ZttzC0cyZHtk",
        "colab_type": "code",
        "colab": {}
      },
      "source": [
        "import pandas as pd\n",
        "from gafes.gafes import Gafes\n",
        "from gafes.gafes import Utils"
      ],
      "execution_count": 0,
      "outputs": []
    },
    {
      "cell_type": "code",
      "metadata": {
        "id": "Nb0q6QEXZJjP",
        "colab_type": "code",
        "colab": {}
      },
      "source": [
        "# read dataframe from csv\n",
        "df = pd.read_csv('breast_cancer_data.csv', sep=',', index_col='id')\n",
        "# remove strange columns\n",
        "df = df.loc[:, ~df.columns.str.contains('^Unnamed')]\n",
        "# encode labels\n",
        "X, y = Utils(df).encode('diagnosis')\n",
        "# initialize gafes\n",
        "gf = Gafes(X=X, y=y, n_pop=20, n_gen=6)"
      ],
      "execution_count": 0,
      "outputs": []
    },
    {
      "cell_type": "code",
      "metadata": {
        "id": "JwuLzv9rZvCw",
        "colab_type": "code",
        "colab": {
          "base_uri": "https://localhost:8080/",
          "height": 280
        },
        "outputId": "6614e5a4-7f35-41aa-c050-c70c500189d4"
      },
      "source": [
        "# select best features\n",
        "gf.run()"
      ],
      "execution_count": 4,
      "outputs": [
        {
          "output_type": "stream",
          "text": [
            "Accuracy with all features: \t(0.9684801846864178,)\n",
            "\n",
            "gen\tnevals\tavg     \tmin     \tmax     \n",
            "0  \t20    \t0.957948\t0.942147\t0.970189\n",
            "1  \t11    \t0.964425\t0.950935\t0.970189\n",
            "2  \t9     \t0.967394\t0.9596  \t0.971989\n",
            "3  \t6     \t0.969507\t0.966649\t0.971989\n",
            "4  \t15    \t0.968706\t0.959661\t0.973667\n",
            "5  \t12    \t0.969314\t0.963109\t0.973667\n",
            "6  \t6     \t0.97203 \t0.968449\t0.973667\n",
            "Best Accuracy: \t(0.9736667949211235,)\n",
            "Number of Features in Subset: \t17\n",
            "Individual: \t\t[0, 0, 1, 1, 1, 0, 0, 1, 1, 0, 1, 1, 1, 0, 0, 1, 0, 0, 1, 1, 0, 1, 1, 0, 0, 1, 1, 0, 1, 1]\n",
            "Feature Subset\t: ['perimeter_mean', 'area_mean', 'smoothness_mean', 'concave points_mean', 'symmetry_mean', 'radius_se', 'texture_se', 'perimeter_se', 'compactness_se', 'symmetry_se', 'fractal_dimension_se', 'texture_worst', 'perimeter_worst', 'compactness_worst', 'concavity_worst', 'symmetry_worst', 'fractal_dimension_worst']\n"
          ],
          "name": "stdout"
        }
      ]
    }
  ]
}